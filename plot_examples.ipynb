{
 "cells": [
  {
   "cell_type": "code",
   "execution_count": null,
   "metadata": {},
   "outputs": [],
   "source": [
    "import joblib\n",
    "month_sheets = joblib.load('./month_sheets.pkl')\n",
    "month_sheet = month_sheets['2021/2']"
   ]
  },
  {
   "cell_type": "markdown",
   "metadata": {},
   "source": [
    "# 分析&作圖"
   ]
  },
  {
   "cell_type": "code",
   "execution_count": null,
   "metadata": {},
   "outputs": [],
   "source": [
    "import plotly.graph_objects as go\n",
    "from plotly.subplots import make_subplots"
   ]
  },
  {
   "cell_type": "markdown",
   "metadata": {},
   "source": [
    "## 計算月表的支出、收入以及淨額"
   ]
  },
  {
   "cell_type": "code",
   "execution_count": null,
   "metadata": {},
   "outputs": [],
   "source": [
    "expenditure = {k:v for k, v in month_sheet.sum_mainitems().items() if v < 0}\n",
    "income = {k:v for k, v in month_sheet.sum_mainitems().items() if v > 0}\n",
    "\n",
    "expenditure_amount = sum(expenditure.values())\n",
    "income_amount = sum(income.values())\n",
    "\n",
    "print('支出: {}, 收入: {}, 淨額: {}'.format(expenditure_amount, income_amount, expenditure_amount+income_amount))"
   ]
  },
  {
   "cell_type": "markdown",
   "metadata": {},
   "source": [
    "### 子類別前N名花費"
   ]
  },
  {
   "cell_type": "code",
   "execution_count": null,
   "metadata": {},
   "outputs": [],
   "source": [
    "N = 10\n",
    "name_money = ((subitem.name, subitem.money) for subitem in month_sheet.get_subitems())\n",
    "top_N_subitems = sorted(name_money, key=lambda x:x[-1], reverse=False)[:N]\n",
    "print(top_N_subitems)"
   ]
  },
  {
   "cell_type": "markdown",
   "metadata": {},
   "source": [
    "## 月表每日紀錄"
   ]
  },
  {
   "cell_type": "code",
   "execution_count": null,
   "metadata": {},
   "outputs": [],
   "source": [
    "from collections import defaultdict, OrderedDict\n",
    "history = defaultdict(list)\n",
    "\n",
    "# 創建一個key為subitem date, value為subitem list的dict\n",
    "for subitem in month_sheet.get_subitems():\n",
    "    history[subitem.date].append(subitem)\n",
    "    \n",
    "history = OrderedDict(sorted(history.items(), key=lambda x: int(x[0].replace('/', ''))))"
   ]
  },
  {
   "cell_type": "markdown",
   "metadata": {},
   "source": [
    "### 子項目-早餐的歷史紀錄"
   ]
  },
  {
   "cell_type": "code",
   "execution_count": null,
   "metadata": {},
   "outputs": [],
   "source": [
    "# 初始化fig\n",
    "fig = go.Figure()\n",
    "# 建立一個專屬於早餐歷史紀錄的字典\n",
    "bf_history = {}\n",
    "# 將早餐的金額加總(因為可能有人一天內吃了複數頓早餐，或是skip掉就要填寫0.0)\n",
    "for date, subitems in history.items():\n",
    "    bf_history[date] = list(filter(lambda x: x.name=='早餐', subitems))\n",
    "    try:\n",
    "        bf_history[date] = sum([-bf_item.money for bf_item in bf_history[date]])\n",
    "    except:\n",
    "        bf_history[date] = 0.0\n",
    "x, y = zip(*bf_history.items())\n",
    "fig.add_trace(go.Scatter(x=x, y=y,\n",
    "                    mode='lines+markers',\n",
    "                    name='lines'))\n",
    "fig.update_layout(title_text='{}月表的每日早餐紀錄'.format(month_sheet.date),\n",
    "                  xaxis_title='日期',\n",
    "                 yaxis_title='金額')"
   ]
  },
  {
   "cell_type": "markdown",
   "metadata": {},
   "source": [
    "### 所有子項目的歷史紀錄\n",
    "以plotyly作圖的好處之一就是可以跟圖做即時互動，例如下方的stacked bar plot假設不想看某個子項目，僅需在右方圖例(legend)按一下該子項目就可以隱藏/顯示囉~"
   ]
  },
  {
   "cell_type": "code",
   "execution_count": null,
   "metadata": {},
   "outputs": [],
   "source": [
    "import numpy as np\n",
    "# 初始化fig\n",
    "fig = go.Figure()\n",
    "# 製作一個矩陣，row為子類別，col為日期\n",
    "subitem_names = month_sheet.get_subitems_names()\n",
    "subitem_init = np.zeros((len(subitem_names), len(history.keys())))\n",
    "# 待會要把日期與名稱對應填入矩陣中，所以先準備好兩個將str轉換成index的字典\n",
    "date_to_idx = {key:idx for idx, key in enumerate(history.keys())}\n",
    "name_to_idx = {key:idx for idx, key in enumerate(subitem_names)}\n",
    "# 開填!\n",
    "for date, subitems in history.items():\n",
    "    for subitem in subitems:\n",
    "        date_idx = date_to_idx[date]\n",
    "        name_idx = name_to_idx[subitem.name]\n",
    "        subitem_init[name_idx][date_idx] += subitem.money\n",
    "# go.Bar吃的資料是每個子類別在每個日期的金額\n",
    "for subitem_name in subitem_names:\n",
    "    fig.add_trace(go.Bar(x=list(history.keys()), y=subitem_init[name_to_idx[subitem_name]], name=subitem_name))\n",
    "\n",
    "fig.update_layout(title_text='{}月表子項目歷史紀錄'.format(month_sheet.date),\n",
    "                  xaxis_title='日期',\n",
    "                  yaxis_title='金額',\n",
    "                  barmode='stack')\n",
    "fig.show()"
   ]
  },
  {
   "cell_type": "markdown",
   "metadata": {},
   "source": [
    "### 主類別圓餅圖"
   ]
  },
  {
   "cell_type": "code",
   "execution_count": null,
   "metadata": {},
   "outputs": [],
   "source": [
    "# 初始化subplots\n",
    "fig = make_subplots(rows=1, cols=2, \n",
    "                    specs=[[{\"type\": \"pie\"}, {\"type\": \"pie\"}]],\n",
    "                   subplot_titles=(\"支出\",\"收入\"))\n",
    "# 將支出與收入分開\n",
    "expenditure = {k:v for k, v in month_sheet.sum_mainitems().items() if v < 0}\n",
    "income = {k:v for k, v in month_sheet.sum_mainitems().items() if v > 0}\n",
    "# 支出的圓餅圖\n",
    "labels, values = zip(*expenditure.items())\n",
    "values = tuple(-v for v in values)\n",
    "fig.add_trace(go.Pie(labels=labels, values=values), row=1, col=1)\n",
    "# 收入的圓餅圖\n",
    "labels, values = zip(*income.items())\n",
    "fig.add_trace(go.Pie(labels=labels, values=values), row=1, col=2)"
   ]
  },
  {
   "cell_type": "markdown",
   "metadata": {},
   "source": [
    "### 子類別圓餅圖"
   ]
  },
  {
   "cell_type": "code",
   "execution_count": null,
   "metadata": {},
   "outputs": [],
   "source": [
    "# 將月表的所有主類別的各項子類別和展開成一個ordereddict\n",
    "od = OrderedDict()\n",
    "for mn in month_sheet.get_mainitems():\n",
    "    od.update(mn.sum_subitems())\n",
    "\n",
    "# 剩下的就跟上面的主類別圓餅圖一樣做法~\n",
    "expenditure = {k:v for k, v in od.items() if v < 0}\n",
    "income = {k:v for k, v in od.items() if v > 0}\n",
    "\n",
    "fig = make_subplots(rows=1, cols=2, \n",
    "                    specs=[[{\"type\": \"pie\"}, {\"type\": \"pie\"}]],\n",
    "                   subplot_titles=(\"支出\",\"收入\"))\n",
    "\n",
    "labels, values = zip(*expenditure.items())\n",
    "values = tuple(-v for v in values)\n",
    "fig.add_trace(go.Pie(labels=labels, values=values), row=1, col=1)\n",
    "\n",
    "labels, values = zip(*income.items())\n",
    "fig.add_trace(go.Pie(labels=labels, values=values), row=1, col=2)"
   ]
  },
  {
   "cell_type": "markdown",
   "metadata": {},
   "source": [
    "### 上述的圖表在MOZE裡面應該都有，但轉成結構化物件後就方便做自己客製化的表，例如:\n",
    "可以畫出類似薪水MoM或YoY成長圖，這裡用下午茶來試試看"
   ]
  },
  {
   "cell_type": "code",
   "execution_count": null,
   "metadata": {},
   "outputs": [],
   "source": [
    "# 將每月下午茶的金額抓出來\n",
    "months = tuple(month_sheets.keys())\n",
    "afternoonteas_in_month = []\n",
    "for ms in month_sheets.values():\n",
    "    try:\n",
    "        afternoonteas_in_month.append(-ms['飲食'].sum_subitems()['下午茶'])\n",
    "    except KeyError: # 可能某個月沒有買下午茶\n",
    "        afternoonteas_in_month.append(0.0)\n",
    "afternoonteas_in_month = np.array(afternoonteas_in_month)\n",
    "# 計算每月之間的成長率\n",
    "afternoonteas_in_month_ratio = afternoonteas_in_month[1:] / afternoonteas_in_month[:-1]"
   ]
  },
  {
   "cell_type": "code",
   "execution_count": null,
   "metadata": {},
   "outputs": [],
   "source": [
    "# 初始化fig\n",
    "fig = make_subplots(specs=[[{\"secondary_y\": True}]])\n",
    "# 將下午茶絕對值畫成bar plot\n",
    "fig.add_trace(go.Bar(x=months, \n",
    "                     y=afternoonteas_in_month,\n",
    "                     name=\"下午茶花費\"),\n",
    "                     secondary_y=False)\n",
    "# 將下午茶MoM成長率畫成line plot\n",
    "fig.add_trace(go.Scatter(x=months[1:], \n",
    "                         y=afternoonteas_in_month_ratio, \n",
    "                         mode='lines+markers',\n",
    "                         name=\"下午茶月成長率\"),\n",
    "                         secondary_y=True)\n",
    "\n",
    "fig.update_layout(title_text='下午茶月成長率',\n",
    "                  xaxis_title='月份')\n",
    "fig.update_yaxes(title_text='金額', secondary_y=False)\n",
    "fig.update_yaxes(title_text='成長率', secondary_y=True)"
   ]
  }
 ],
 "metadata": {
  "kernelspec": {
   "display_name": "invest",
   "language": "python",
   "name": "invest"
  },
  "language_info": {
   "codemirror_mode": {
    "name": "ipython",
    "version": 3
   },
   "file_extension": ".py",
   "mimetype": "text/x-python",
   "name": "python",
   "nbconvert_exporter": "python",
   "pygments_lexer": "ipython3",
   "version": "3.8.10"
  }
 },
 "nbformat": 4,
 "nbformat_minor": 4
}
