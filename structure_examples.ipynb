{
 "cells": [
  {
   "cell_type": "markdown",
   "metadata": {},
   "source": [
    "# 結構介紹"
   ]
  },
  {
   "cell_type": "code",
   "execution_count": 1,
   "metadata": {},
   "outputs": [],
   "source": [
    "import joblib\n",
    "month_sheets = joblib.load('./month_sheets.pkl')"
   ]
  },
  {
   "cell_type": "markdown",
   "metadata": {},
   "source": [
    "## month_sheets"
   ]
  },
  {
   "cell_type": "markdown",
   "metadata": {},
   "source": [
    "### month_sheets為一個OrderedDict，key是年/月，value則是對應的MonthSheet物件"
   ]
  },
  {
   "cell_type": "code",
   "execution_count": 2,
   "metadata": {},
   "outputs": [
    {
     "name": "stdout",
     "output_type": "stream",
     "text": [
      "OrderedDict([('2021/1', <structures.MonthSheet object at 0x00000192ABAC5580>), ('2021/2', <structures.MonthSheet object at 0x000001928B59A8E0>), ('2021/3', <structures.MonthSheet object at 0x000001928B59A8B0>), ('2021/4', <structures.MonthSheet object at 0x000001928B5EDA00>), ('2021/5', <structures.MonthSheet object at 0x000001928B618BE0>), ('2021/6', <structures.MonthSheet object at 0x00000192ACA12C70>)])\n"
     ]
    }
   ],
   "source": [
    "print(month_sheets)"
   ]
  },
  {
   "cell_type": "code",
   "execution_count": 3,
   "metadata": {},
   "outputs": [],
   "source": [
    "# 取其中某個年月作範例分析\n",
    "month_sheet = month_sheets['2021/2']"
   ]
  },
  {
   "cell_type": "markdown",
   "metadata": {},
   "source": [
    "## MonthSheet 物件 (月表)"
   ]
  },
  {
   "cell_type": "markdown",
   "metadata": {},
   "source": [
    "### 一個月表含有1或多個MainItem(主類別)物件，```print(月表)```可以得到該月表的簡短描述"
   ]
  },
  {
   "cell_type": "code",
   "execution_count": 4,
   "metadata": {},
   "outputs": [
    {
     "name": "stdout",
     "output_type": "stream",
     "text": [
      "<class 'structures.MonthSheet'>\n",
      "2021年2月的月表中含有7項主類別: 飲食、個人、交通、收入、家居、購物和醫療\n"
     ]
    }
   ],
   "source": [
    "print(type(month_sheet))\n",
    "print(month_sheet)"
   ]
  },
  {
   "cell_type": "markdown",
   "metadata": {},
   "source": [
    "### 月表可以調用以下幾種方法: \n",
    "1. ```add_row``` : 將MOZE.csv資料讀取成月表物件時才需用到，將MOZE.csv的每個row(pd.Series)存成月表資訊\n",
    "2. ```get_mainitems_names``` : 該月表下所有的主類別名稱\n",
    "3. ```get_mainitems``` : 該月表下所有的主類別物件\n",
    "2. ```get_subitems_names``` : 該月表下所有的主類別下所有的子類別名稱\n",
    "5. ```get_subitems``` : 該月表下所有主類別下所有的子類別物件\n",
    "3. ```sum_mainitems``` : 將主類別的金額分別加總，並以花費金額最多至最少排序"
   ]
  },
  {
   "cell_type": "code",
   "execution_count": 5,
   "metadata": {},
   "outputs": [
    {
     "name": "stdout",
     "output_type": "stream",
     "text": [
      "{'收入', '購物', '飲食', '個人', '醫療', '家居', '交通'}\n",
      "{'牛奶', '牙齒保健', '房租', '麥片', '計程車', '薪水', '火車', '早餐', '午餐', '宵夜', '電話費', '緊急預備金', '健身', '剪頭髮', '投資', '社交', '捷運', '晚餐', '公車', '日常用品', '電費', '飲料', '彩券', '衣物', '加油費', '獎金', '電子產品', '下午茶'}\n"
     ]
    }
   ],
   "source": [
    "print(month_sheet.get_mainitems_names())\n",
    "print(month_sheet.get_subitems_names())"
   ]
  },
  {
   "cell_type": "code",
   "execution_count": 6,
   "metadata": {},
   "outputs": [
    {
     "data": {
      "text/plain": [
       "[<structures.MainItem at 0x1928b59a910>,\n",
       " <structures.MainItem at 0x1928b5ae9d0>,\n",
       " <structures.MainItem at 0x1928b5ae9a0>,\n",
       " <structures.MainItem at 0x1928b5c3370>,\n",
       " <structures.MainItem at 0x1928b5c3490>,\n",
       " <structures.MainItem at 0x1928b5c3640>,\n",
       " <structures.MainItem at 0x1928b5c37f0>]"
      ]
     },
     "execution_count": 6,
     "metadata": {},
     "output_type": "execute_result"
    }
   ],
   "source": [
    "month_sheet.get_mainitems()"
   ]
  },
  {
   "cell_type": "code",
   "execution_count": 7,
   "metadata": {},
   "outputs": [
    {
     "data": {
      "text/plain": [
       "OrderedDict([('個人', -121304.0),\n",
       "             ('家居', -10725.0),\n",
       "             ('飲食', -8063.0),\n",
       "             ('購物', -4937.0),\n",
       "             ('交通', -903.0),\n",
       "             ('醫療', -150.0),\n",
       "             ('收入', 114162.0)])"
      ]
     },
     "execution_count": 7,
     "metadata": {},
     "output_type": "execute_result"
    }
   ],
   "source": [
    "month_sheet.sum_mainitems()"
   ]
  },
  {
   "cell_type": "markdown",
   "metadata": {},
   "source": [
    "### 從月表中獲取某個主類別物件"
   ]
  },
  {
   "cell_type": "code",
   "execution_count": 8,
   "metadata": {},
   "outputs": [
    {
     "data": {
      "text/plain": [
       "<structures.MainItem at 0x1928b5ae9a0>"
      ]
     },
     "execution_count": 8,
     "metadata": {},
     "output_type": "execute_result"
    }
   ],
   "source": [
    "month_sheet['交通']"
   ]
  },
  {
   "cell_type": "markdown",
   "metadata": {},
   "source": [
    "## MainItem 物件 (主類別)"
   ]
  },
  {
   "cell_type": "markdown",
   "metadata": {},
   "source": [
    "### 一個主類別含有1或多個SubItem(子類別)物件，```print(主類別)``` 可以得到該主類別的簡短描述"
   ]
  },
  {
   "cell_type": "code",
   "execution_count": 9,
   "metadata": {},
   "outputs": [
    {
     "name": "stdout",
     "output_type": "stream",
     "text": [
      "<class 'structures.MainItem'>\n",
      "飲食中含有8項子類別: 早餐、午餐、晚餐、下午茶、飲料、宵夜、牛奶和麥片\n"
     ]
    }
   ],
   "source": [
    "main_item_example = month_sheet['飲食']\n",
    "print(type(main_item_example))\n",
    "print(main_item_example)"
   ]
  },
  {
   "cell_type": "markdown",
   "metadata": {},
   "source": [
    "### 主類別可以調用以下幾個方法:\n",
    "1. ```add_subitem``` : 將MOZE.csv資料讀取成主類別物件時才需用到\n",
    "2. ```get_subitems_names``` : 該主類別下所有的子類別名稱\n",
    "5. ```get_subitems``` : 該主類別下所有的子類別物件\n",
    "3. ```count_subitems``` : 將子類別依照名稱個別加總其次數\n",
    "4. ```sum_subitems``` : 將子類別依照名稱個別相加總其金額，並以花費金額最多至最少排序"
   ]
  },
  {
   "cell_type": "code",
   "execution_count": 10,
   "metadata": {},
   "outputs": [
    {
     "data": {
      "text/plain": [
       "{'下午茶', '午餐', '宵夜', '早餐', '晚餐', '牛奶', '飲料', '麥片'}"
      ]
     },
     "execution_count": 10,
     "metadata": {},
     "output_type": "execute_result"
    }
   ],
   "source": [
    "main_item_example.get_subitems_names()"
   ]
  },
  {
   "cell_type": "code",
   "execution_count": 11,
   "metadata": {},
   "outputs": [
    {
     "data": {
      "text/plain": [
       "OrderedDict([('麥片', 2),\n",
       "             ('飲料', 3),\n",
       "             ('宵夜', 3),\n",
       "             ('牛奶', 3),\n",
       "             ('下午茶', 8),\n",
       "             ('晚餐', 19),\n",
       "             ('早餐', 21),\n",
       "             ('午餐', 21)])"
      ]
     },
     "execution_count": 11,
     "metadata": {},
     "output_type": "execute_result"
    }
   ],
   "source": [
    "main_item_example.count_subitems()"
   ]
  },
  {
   "cell_type": "code",
   "execution_count": 12,
   "metadata": {},
   "outputs": [
    {
     "data": {
      "text/plain": [
       "OrderedDict([('午餐', -2436.0),\n",
       "             ('晚餐', -2059.0),\n",
       "             ('早餐', -1356.0),\n",
       "             ('麥片', -1005.0),\n",
       "             ('下午茶', -428.0),\n",
       "             ('牛奶', -394.0),\n",
       "             ('飲料', -293.0),\n",
       "             ('宵夜', -92.0)])"
      ]
     },
     "execution_count": 12,
     "metadata": {},
     "output_type": "execute_result"
    }
   ],
   "source": [
    "main_item_example.sum_subitems()"
   ]
  },
  {
   "cell_type": "markdown",
   "metadata": {},
   "source": [
    "### 從主類別中獲取某個子類別物件，返回值為該子類別所組成的list"
   ]
  },
  {
   "cell_type": "code",
   "execution_count": 13,
   "metadata": {},
   "outputs": [
    {
     "data": {
      "text/plain": [
       "[<structures.SubItem at 0x1928b59a940>,\n",
       " <structures.SubItem at 0x1928b59a970>,\n",
       " <structures.SubItem at 0x1928b59a9a0>,\n",
       " <structures.SubItem at 0x1928b59a9d0>,\n",
       " <structures.SubItem at 0x1928b59aa00>,\n",
       " <structures.SubItem at 0x1928b59aa30>,\n",
       " <structures.SubItem at 0x1928b59aa60>,\n",
       " <structures.SubItem at 0x1928b59aa90>,\n",
       " <structures.SubItem at 0x1928b59aac0>,\n",
       " <structures.SubItem at 0x1928b59aaf0>,\n",
       " <structures.SubItem at 0x1928b59ab20>,\n",
       " <structures.SubItem at 0x1928b59ab50>,\n",
       " <structures.SubItem at 0x1928b59ab80>,\n",
       " <structures.SubItem at 0x1928b59abb0>,\n",
       " <structures.SubItem at 0x1928b59abe0>,\n",
       " <structures.SubItem at 0x1928b59ac10>,\n",
       " <structures.SubItem at 0x1928b59ac40>,\n",
       " <structures.SubItem at 0x1928b59ac70>,\n",
       " <structures.SubItem at 0x1928b59aca0>,\n",
       " <structures.SubItem at 0x1928b59acd0>,\n",
       " <structures.SubItem at 0x1928b59ad00>]"
      ]
     },
     "execution_count": 13,
     "metadata": {},
     "output_type": "execute_result"
    }
   ],
   "source": [
    "main_item_example['早餐']"
   ]
  },
  {
   "cell_type": "markdown",
   "metadata": {},
   "source": [
    "## SubItem 物件 (子類別)"
   ]
  },
  {
   "cell_type": "markdown",
   "metadata": {},
   "source": [
    "### 子類別為最小單元，子類別代表一項消費，`print(子類別)`來查閱該子類別的簡短資訊"
   ]
  },
  {
   "cell_type": "code",
   "execution_count": 14,
   "metadata": {},
   "outputs": [
    {
     "name": "stdout",
     "output_type": "stream",
     "text": [
      "<class 'structures.SubItem'>\n",
      "2021/2/1 早餐 -65.0\n"
     ]
    }
   ],
   "source": [
    "sub_item_example = main_item_example['早餐'][0]\n",
    "print(type(sub_item_example))\n",
    "print(sub_item_example)"
   ]
  }
 ],
 "metadata": {
  "kernelspec": {
   "display_name": "invest",
   "language": "python",
   "name": "invest"
  },
  "language_info": {
   "codemirror_mode": {
    "name": "ipython",
    "version": 3
   },
   "file_extension": ".py",
   "mimetype": "text/x-python",
   "name": "python",
   "nbconvert_exporter": "python",
   "pygments_lexer": "ipython3",
   "version": "3.8.10"
  }
 },
 "nbformat": 4,
 "nbformat_minor": 4
}
