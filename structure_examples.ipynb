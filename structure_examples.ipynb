{
 "cells": [
  {
   "cell_type": "markdown",
   "metadata": {},
   "source": [
    "# 結構介紹"
   ]
  },
  {
   "cell_type": "code",
   "execution_count": null,
   "metadata": {},
   "outputs": [],
   "source": [
    "import joblib\n",
    "month_sheets = joblib.load('./month_sheets.pkl')"
   ]
  },
  {
   "cell_type": "markdown",
   "metadata": {},
   "source": [
    "## month_sheets"
   ]
  },
  {
   "cell_type": "markdown",
   "metadata": {},
   "source": [
    "### month_sheets為一個OrderedDict，key是年/月，value則是對應的MonthSheet物件"
   ]
  },
  {
   "cell_type": "code",
   "execution_count": null,
   "metadata": {},
   "outputs": [],
   "source": [
    "print(month_sheets)"
   ]
  },
  {
   "cell_type": "code",
   "execution_count": null,
   "metadata": {},
   "outputs": [],
   "source": [
    "# 取其中某個年月作範例分析\n",
    "month_sheet = month_sheets['2021/2']"
   ]
  },
  {
   "cell_type": "markdown",
   "metadata": {},
   "source": [
    "## MonthSheet 物件 (月表)"
   ]
  },
  {
   "cell_type": "markdown",
   "metadata": {},
   "source": [
    "### 一個月表含有1或多個MainItem(主類別)物件，```print(月表)```可以得到該月表的簡短描述"
   ]
  },
  {
   "cell_type": "code",
   "execution_count": null,
   "metadata": {},
   "outputs": [],
   "source": [
    "print(type(month_sheet))\n",
    "print(month_sheet)"
   ]
  },
  {
   "cell_type": "markdown",
   "metadata": {},
   "source": [
    "### 月表可以調用以下幾種方法: \n",
    "1. ```add_row``` : 將MOZE.csv資料讀取成月表物件時才需用到，將MOZE.csv的每個row(pd.Series)存成月表資訊\n",
    "2. ```get_mainitems_names``` : 該月表下所有的主類別名稱\n",
    "3. ```get_mainitems``` : 該月表下所有的主類別物件\n",
    "2. ```get_subitems_names``` : 該月表下所有的主類別下所有的子類別名稱\n",
    "5. ```get_subitems``` : 該月表下所有主類別下所有的子類別物件\n",
    "3. ```sum_mainitems``` : 將主類別的金額分別加總，並以花費金額最多至最少排序"
   ]
  },
  {
   "cell_type": "code",
   "execution_count": null,
   "metadata": {},
   "outputs": [],
   "source": [
    "print(month_sheet.get_mainitems_names())\n",
    "print(month_sheet.get_subitems_names())"
   ]
  },
  {
   "cell_type": "code",
   "execution_count": null,
   "metadata": {},
   "outputs": [],
   "source": [
    "month_sheet.get_mainitems()"
   ]
  },
  {
   "cell_type": "code",
   "execution_count": null,
   "metadata": {},
   "outputs": [],
   "source": [
    "month_sheet.sum_mainitems()"
   ]
  },
  {
   "cell_type": "markdown",
   "metadata": {},
   "source": [
    "### 從月表中獲取某個主類別物件"
   ]
  },
  {
   "cell_type": "code",
   "execution_count": null,
   "metadata": {},
   "outputs": [],
   "source": [
    "month_sheet['交通']"
   ]
  },
  {
   "cell_type": "markdown",
   "metadata": {},
   "source": [
    "## MainItem 物件 (主類別)"
   ]
  },
  {
   "cell_type": "markdown",
   "metadata": {},
   "source": [
    "### 一個主類別含有1或多個SubItem(子類別)物件，```print(主類別)``` 可以得到該主類別的簡短描述"
   ]
  },
  {
   "cell_type": "code",
   "execution_count": null,
   "metadata": {},
   "outputs": [],
   "source": [
    "main_item_example = month_sheet['飲食']\n",
    "print(type(main_item_example))\n",
    "print(main_item_example)"
   ]
  },
  {
   "cell_type": "markdown",
   "metadata": {},
   "source": [
    "### 主類別可以調用以下幾個方法:\n",
    "1. ```add_subitem``` : 將MOZE.csv資料讀取成主類別物件時才需用到\n",
    "2. ```get_subitems_names``` : 該主類別下所有的子類別名稱\n",
    "5. ```get_subitems``` : 該主類別下所有的子類別物件\n",
    "3. ```count_subitems``` : 將子類別依照名稱個別加總其次數\n",
    "4. ```sum_subitems``` : 將子類別依照名稱個別相加總其金額，並以花費金額最多至最少排序"
   ]
  },
  {
   "cell_type": "code",
   "execution_count": null,
   "metadata": {},
   "outputs": [],
   "source": [
    "main_item_example.get_subitems_names()"
   ]
  },
  {
   "cell_type": "code",
   "execution_count": null,
   "metadata": {},
   "outputs": [],
   "source": [
    "main_item_example.count_subitems()"
   ]
  },
  {
   "cell_type": "code",
   "execution_count": null,
   "metadata": {},
   "outputs": [],
   "source": [
    "main_item_example.sum_subitems()"
   ]
  },
  {
   "cell_type": "markdown",
   "metadata": {},
   "source": [
    "### 從主類別中獲取某個子類別物件，返回值為該子類別所組成的list"
   ]
  },
  {
   "cell_type": "code",
   "execution_count": null,
   "metadata": {},
   "outputs": [],
   "source": [
    "main_item_example['早餐']"
   ]
  },
  {
   "cell_type": "markdown",
   "metadata": {},
   "source": [
    "## SubItem 物件 (子類別)"
   ]
  },
  {
   "cell_type": "markdown",
   "metadata": {},
   "source": [
    "### 子類別為最小單元，子類別代表一項消費，`print(子類別)`來查閱該子類別的簡短資訊"
   ]
  },
  {
   "cell_type": "code",
   "execution_count": null,
   "metadata": {},
   "outputs": [],
   "source": [
    "sub_item_example = main_item_example['早餐'][0]\n",
    "print(type(sub_item_example))\n",
    "print(sub_item_example)"
   ]
  }
 ],
 "metadata": {
  "kernelspec": {
   "display_name": "invest",
   "language": "python",
   "name": "invest"
  },
  "language_info": {
   "codemirror_mode": {
    "name": "ipython",
    "version": 3
   },
   "file_extension": ".py",
   "mimetype": "text/x-python",
   "name": "python",
   "nbconvert_exporter": "python",
   "pygments_lexer": "ipython3",
   "version": "3.8.10"
  }
 },
 "nbformat": 4,
 "nbformat_minor": 4
}
